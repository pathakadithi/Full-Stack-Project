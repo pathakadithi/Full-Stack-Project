{
  "nbformat": 4,
  "nbformat_minor": 0,
  "metadata": {
    "colab": {
      "provenance": [],
      "authorship_tag": "ABX9TyP+W1I4ffPcL6eGpos+PR1z",
      "include_colab_link": true
    },
    "kernelspec": {
      "name": "python3",
      "display_name": "Python 3"
    },
    "language_info": {
      "name": "python"
    }
  },
  "cells": [
    {
      "cell_type": "markdown",
      "metadata": {
        "id": "view-in-github",
        "colab_type": "text"
      },
      "source": [
        "<a href=\"https://colab.research.google.com/github/pathakadithi/Full-Stack-Project/blob/main/Linear_Regression.ipynb\" target=\"_parent\"><img src=\"https://colab.research.google.com/assets/colab-badge.svg\" alt=\"Open In Colab\"/></a>"
      ]
    },
    {
      "cell_type": "code",
      "source": [
        "\n",
        "from google.colab import drive\n",
        "drive.mount('/content/drive')\n",
        "\n",
        "# Then give path to your file\n",
        "df = pd.read_csv(\"/content/drive/MyDrive/Housing.csv\")\n",
        "\n"
      ],
      "metadata": {
        "colab": {
          "base_uri": "https://localhost:8080/"
        },
        "id": "CxtbnGy6ZIFn",
        "outputId": "6b687368-decf-4d75-acb6-584903d919af"
      },
      "execution_count": 4,
      "outputs": [
        {
          "output_type": "stream",
          "name": "stdout",
          "text": [
            "Drive already mounted at /content/drive; to attempt to forcibly remount, call drive.mount(\"/content/drive\", force_remount=True).\n"
          ]
        }
      ]
    },
    {
      "cell_type": "code",
      "execution_count": 10,
      "metadata": {
        "colab": {
          "base_uri": "https://localhost:8080/"
        },
        "id": "wo1pXI_IYSqW",
        "outputId": "bdfafc92-97ca-4d8d-b356-8f9bd811f52a"
      },
      "outputs": [
        {
          "output_type": "stream",
          "name": "stdout",
          "text": [
            "      price  area  bedrooms  bathrooms  stories mainroad guestroom basement  \\\n",
            "0  13300000  7420         4          2        3      yes        no       no   \n",
            "1  12250000  8960         4          4        4      yes        no       no   \n",
            "2  12250000  9960         3          2        2      yes        no      yes   \n",
            "3  12215000  7500         4          2        2      yes        no      yes   \n",
            "4  11410000  7420         4          1        2      yes       yes      yes   \n",
            "\n",
            "  hotwaterheating airconditioning  parking prefarea furnishingstatus  \n",
            "0              no             yes        2      yes        furnished  \n",
            "1              no             yes        3       no        furnished  \n",
            "2              no              no        2      yes   semi-furnished  \n",
            "3              no             yes        3      yes        furnished  \n",
            "4              no             yes        2       no        furnished  \n",
            "<class 'pandas.core.frame.DataFrame'>\n",
            "RangeIndex: 545 entries, 0 to 544\n",
            "Data columns (total 13 columns):\n",
            " #   Column            Non-Null Count  Dtype \n",
            "---  ------            --------------  ----- \n",
            " 0   price             545 non-null    int64 \n",
            " 1   area              545 non-null    int64 \n",
            " 2   bedrooms          545 non-null    int64 \n",
            " 3   bathrooms         545 non-null    int64 \n",
            " 4   stories           545 non-null    int64 \n",
            " 5   mainroad          545 non-null    object\n",
            " 6   guestroom         545 non-null    object\n",
            " 7   basement          545 non-null    object\n",
            " 8   hotwaterheating   545 non-null    object\n",
            " 9   airconditioning   545 non-null    object\n",
            " 10  parking           545 non-null    int64 \n",
            " 11  prefarea          545 non-null    object\n",
            " 12  furnishingstatus  545 non-null    object\n",
            "dtypes: int64(6), object(7)\n",
            "memory usage: 55.5+ KB\n",
            "None\n",
            "price               0\n",
            "area                0\n",
            "bedrooms            0\n",
            "bathrooms           0\n",
            "stories             0\n",
            "mainroad            0\n",
            "guestroom           0\n",
            "basement            0\n",
            "hotwaterheating     0\n",
            "airconditioning     0\n",
            "parking             0\n",
            "prefarea            0\n",
            "furnishingstatus    0\n",
            "dtype: int64\n"
          ]
        }
      ],
      "source": [
        "import pandas as pd\n",
        "import numpy as np\n",
        "import matplotlib.pyplot as plt\n",
        "import seaborn as sns\n",
        "\n",
        "from sklearn.model_selection import train_test_split\n",
        "from sklearn.linear_model import LinearRegression\n",
        "from sklearn.metrics import mean_absolute_error, mean_squared_error, r2_score\n",
        "from math import sqrt\n",
        "\n",
        "#inside MyDrive\n",
        "df = pd.read_csv(\"/content/drive/MyDrive/Housing.csv\")\n",
        "\n",
        "print(df.head())\n",
        "print(df.info())\n",
        "print(df.isnull().sum())\n"
      ]
    },
    {
      "cell_type": "code",
      "source": [
        "# Drop ID column if present\n",
        "if 'Id' in df.columns:\n",
        "    df.drop(columns=['Id'], inplace=True)\n",
        "\n",
        "# Fill missing numeric columns with median\n",
        "for col in df.select_dtypes(include=[np.number]).columns:\n",
        "    df[col].fillna(df[col].median(), inplace=True)\n",
        "\n",
        "# One-hot encode categorical columns\n",
        "df = pd.get_dummies(df, drop_first=True)\n"
      ],
      "metadata": {
        "colab": {
          "base_uri": "https://localhost:8080/"
        },
        "id": "WLWq3CSgafg1",
        "outputId": "9344d0e4-d8e2-46f1-c8a9-1ce895f3ff1f"
      },
      "execution_count": 11,
      "outputs": [
        {
          "output_type": "stream",
          "name": "stderr",
          "text": [
            "/tmp/ipython-input-369749877.py:7: FutureWarning: A value is trying to be set on a copy of a DataFrame or Series through chained assignment using an inplace method.\n",
            "The behavior will change in pandas 3.0. This inplace method will never work because the intermediate object on which we are setting values always behaves as a copy.\n",
            "\n",
            "For example, when doing 'df[col].method(value, inplace=True)', try using 'df.method({col: value}, inplace=True)' or df[col] = df[col].method(value) instead, to perform the operation inplace on the original object.\n",
            "\n",
            "\n",
            "  df[col].fillna(df[col].median(), inplace=True)\n"
          ]
        }
      ]
    },
    {
      "cell_type": "code",
      "source": [
        "print(df.columns.tolist())\n"
      ],
      "metadata": {
        "colab": {
          "base_uri": "https://localhost:8080/"
        },
        "id": "g9DqR1FMbaHt",
        "outputId": "5f1d76aa-8e9d-4711-a2f8-6c0bcb97a916"
      },
      "execution_count": 14,
      "outputs": [
        {
          "output_type": "stream",
          "name": "stdout",
          "text": [
            "['price', 'area', 'bedrooms', 'bathrooms', 'stories', 'parking', 'mainroad_yes', 'guestroom_yes', 'basement_yes', 'hotwaterheating_yes', 'airconditioning_yes', 'prefarea_yes', 'furnishingstatus_semi-furnished', 'furnishingstatus_unfurnished']\n"
          ]
        }
      ]
    },
    {
      "cell_type": "code",
      "source": [
        "X = df.drop(columns=['price'])   # Features\n",
        "y = df['price']                  # Target\n",
        "\n",
        "X_train, X_test, y_train, y_test = train_test_split(\n",
        "    X, y, test_size=0.2, random_state=42\n",
        ")\n"
      ],
      "metadata": {
        "id": "tc1eiUgga3oG"
      },
      "execution_count": 15,
      "outputs": []
    },
    {
      "cell_type": "code",
      "source": [
        "# Linear Regression Model\n",
        "lr = LinearRegression()\n",
        "lr.fit(X_train, y_train)\n",
        "y_pred = lr.predict(X_test)\n"
      ],
      "metadata": {
        "id": "kaqIY6_Pbhzd"
      },
      "execution_count": 16,
      "outputs": []
    },
    {
      "cell_type": "code",
      "source": [
        "mae = mean_absolute_error(y_test, y_pred)\n",
        "mse = mean_squared_error(y_test, y_pred)\n",
        "rmse = sqrt(mse)\n",
        "r2 = r2_score(y_test, y_pred)\n",
        "\n",
        "print(f\"MAE  = {mae:.2f}\")\n",
        "print(f\"MSE  = {mse:.2f}\")\n",
        "print(f\"RMSE = {rmse:.2f}\")\n",
        "print(f\"R²   = {r2:.4f}\")\n"
      ],
      "metadata": {
        "colab": {
          "base_uri": "https://localhost:8080/"
        },
        "id": "DpKO6ZoIbvbe",
        "outputId": "9005e363-ec73-47e4-b1bc-035755be0012"
      },
      "execution_count": 17,
      "outputs": [
        {
          "output_type": "stream",
          "name": "stdout",
          "text": [
            "MAE  = 970043.40\n",
            "MSE  = 1754318687330.66\n",
            "RMSE = 1324506.96\n",
            "R²   = 0.6529\n"
          ]
        }
      ]
    },
    {
      "cell_type": "code",
      "source": [
        "plt.figure(figsize=(7,5))\n",
        "sns.scatterplot(x=X_test['area'], y=y_test, label=\"Actual\", alpha=0.6)\n",
        "sns.lineplot(x=X_test['area'], y=y_pred, color=\"red\", label=\"Predicted\")\n",
        "plt.xlabel(\"Area (sq ft)\")\n",
        "plt.ylabel(\"House Price\")\n",
        "plt.title(\"Linear Regression: area vs price\")\n",
        "plt.legend()\n",
        "plt.show()\n"
      ],
      "metadata": {
        "colab": {
          "base_uri": "https://localhost:8080/",
          "height": 487
        },
        "id": "tifwgfzhb0Nf",
        "outputId": "a8407046-ed46-4535-9e61-61ff77b17f0c"
      },
      "execution_count": 22,
      "outputs": [
        {
          "output_type": "display_data",
          "data": {
            "text/plain": [
              "<Figure size 700x500 with 1 Axes>"
            ],
            "image/png": "[encoded data removed]"
          },
          "metadata": {}
        }
      ]
    },
    {
      "cell_type": "code",
      "source": [
        "coef_df = pd.DataFrame({\n",
        "    'Feature': X.columns,\n",
        "    'Coefficient': lr.coef_\n",
        "}).sort_values(by=\"Coefficient\", key=abs, ascending=False)\n",
        "\n",
        "print(coef_df.head(10))\n",
        "print(f\"Intercept: {lr.intercept_:.2f}\")\n"
      ],
      "metadata": {
        "colab": {
          "base_uri": "https://localhost:8080/"
        },
        "id": "MTWiWx1teVq3",
        "outputId": "f462c4dc-8627-47ed-b2a5-14b655d47763"
      },
      "execution_count": 23,
      "outputs": [
        {
          "output_type": "stream",
          "name": "stdout",
          "text": [
            "                         Feature   Coefficient\n",
            "2                      bathrooms  1.094445e+06\n",
            "9            airconditioning_yes  7.914267e+05\n",
            "8            hotwaterheating_yes  6.846499e+05\n",
            "10                  prefarea_yes  6.298906e+05\n",
            "12  furnishingstatus_unfurnished -4.136451e+05\n",
            "3                        stories  4.074766e+05\n",
            "7                   basement_yes  3.902512e+05\n",
            "5                   mainroad_yes  3.679199e+05\n",
            "6                  guestroom_yes  2.316100e+05\n",
            "4                        parking  2.248419e+05\n",
            "Intercept: 260032.36\n"
          ]
        }
      ]
    },
    {
      "cell_type": "code",
      "source": [],
      "metadata": {
        "id": "Et1kfuDjegX9"
      },
      "execution_count": null,
      "outputs": []
    }
  ]
}